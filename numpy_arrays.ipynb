{
 "cells": [
  {
   "cell_type": "code",
   "execution_count": 11,
   "id": "0cba562b-9d37-4480-b74b-6563c53f781c",
   "metadata": {},
   "outputs": [
    {
     "name": "stdout",
     "output_type": "stream",
     "text": [
      "['A' '45' '67' '57' '60']\n",
      "<class 'numpy.ndarray'>\n",
      "<U11\n"
     ]
    }
   ],
   "source": [
    "#import numpy library\n",
    "import numpy as np\n",
    "\n",
    "x = np.array([\"A\",45,67,57,60])\n",
    "print(x)\n",
    "print(type(x))\n",
    "print(x.dtype)"
   ]
  },
  {
   "cell_type": "code",
   "execution_count": 5,
   "id": "f995eb10-5db7-4d91-b5b9-1c3a3546acfb",
   "metadata": {},
   "outputs": [
    {
     "name": "stdout",
     "output_type": "stream",
     "text": [
      "[45.  67.  57.   9.8]\n",
      "<class 'numpy.ndarray'>\n",
      "float64\n"
     ]
    }
   ],
   "source": [
    "import numpy as np\n",
    "\n",
    "x = np.array([45,67,57,9.8])\n",
    "print(x)\n",
    "print(type(x))\n",
    "print(x.dtype)"
   ]
  },
  {
   "cell_type": "code",
   "execution_count": 17,
   "id": "51c54dca-d7b7-42ac-95bf-9305a278e83b",
   "metadata": {},
   "outputs": [
    {
     "name": "stdout",
     "output_type": "stream",
     "text": [
      "[['A' '67']\n",
      " ['57' '9.8']]\n",
      "<class 'numpy.ndarray'>\n",
      "<U32\n"
     ]
    }
   ],
   "source": [
    "import numpy as np\n",
    "\n",
    "x = np.array([[\"A\",67],[57,9.8]])\n",
    "print(x)\n",
    "print(type(x))\n",
    "print(x.dtype)"
   ]
  },
  {
   "cell_type": "code",
   "execution_count": 19,
   "id": "46d47064-3842-4cfa-b226-56480c4ead4c",
   "metadata": {},
   "outputs": [
    {
     "name": "stdout",
     "output_type": "stream",
     "text": [
      "(2, 2)\n"
     ]
    }
   ],
   "source": [
    "print(x.shape)"
   ]
  },
  {
   "cell_type": "code",
   "execution_count": 31,
   "id": "fded72f3-e7b7-421e-911a-45c5068dab1a",
   "metadata": {},
   "outputs": [
    {
     "name": "stdout",
     "output_type": "stream",
     "text": [
      "[[45]\n",
      " [67]\n",
      " [57]\n",
      " [98]]\n",
      "(4, 1)\n"
     ]
    }
   ],
   "source": [
    "x = np.array([45,67,57,98])\n",
    "y = x.reshape(4,1)\n",
    "print(y)\n",
    "print(y.shape)\n"
   ]
  },
  {
   "cell_type": "code",
   "execution_count": 37,
   "id": "90b5cdd2-5542-48c0-80a5-0a1801902c24",
   "metadata": {},
   "outputs": [
    {
     "name": "stdout",
     "output_type": "stream",
     "text": [
      "[3 4 5 6 7 8 9]\n"
     ]
    },
    {
     "data": {
      "text/plain": [
       "numpy.ndarray"
      ]
     },
     "execution_count": 37,
     "metadata": {},
     "output_type": "execute_result"
    }
   ],
   "source": [
    "z = np.arange(3,10)\n",
    "print(z)\n",
    "type(z)"
   ]
  },
  {
   "cell_type": "code",
   "execution_count": 43,
   "id": "6c1487fe-3cee-49f5-8445-99d2b0ebf325",
   "metadata": {},
   "outputs": [
    {
     "name": "stdout",
     "output_type": "stream",
     "text": [
      "[1.3692 2.3692 3.3692]\n"
     ]
    },
    {
     "data": {
      "text/plain": [
       "array([1.37, 2.37, 3.37])"
      ]
     },
     "execution_count": 43,
     "metadata": {},
     "output_type": "execute_result"
    }
   ],
   "source": [
    "a = np.array([1.3692,2.3692,3.3692])\n",
    "print(a)\n",
    "np.around(a,2)"
   ]
  },
  {
   "cell_type": "code",
   "execution_count": 49,
   "id": "a4ec8ed8-7b27-41b4-b308-87a5bb07eb97",
   "metadata": {},
   "outputs": [
    {
     "name": "stdout",
     "output_type": "stream",
     "text": [
      "[1.3692 2.3692 3.3692]\n",
      "[1.17 1.54 1.84]\n"
     ]
    }
   ],
   "source": [
    "a = np.array([1.3692,2.3692,3.3692])\n",
    "print(a)\n",
    "print(np.around(np.sqrt(a),2))"
   ]
  },
  {
   "cell_type": "code",
   "execution_count": 57,
   "id": "a060d27a-92d8-4e43-a8bd-bd27e18939e0",
   "metadata": {},
   "outputs": [
    {
     "name": "stdout",
     "output_type": "stream",
     "text": [
      "[[ 3. 67.]\n",
      " [57. nan]]\n"
     ]
    }
   ],
   "source": [
    "x = np.array([[3,67],[57,np.NAN]])\n",
    "print(x)\n"
   ]
  },
  {
   "cell_type": "code",
   "execution_count": 63,
   "id": "5ba8e193-d1d7-4d2c-9406-ebb379274b19",
   "metadata": {},
   "outputs": [
    {
     "name": "stdout",
     "output_type": "stream",
     "text": [
      "[['3.0' '67.0']\n",
      " ['57.0' 'nan']]\n"
     ]
    },
    {
     "data": {
      "text/plain": [
       "dtype('<U32')"
      ]
     },
     "execution_count": 63,
     "metadata": {},
     "output_type": "execute_result"
    }
   ],
   "source": [
    "a1_copy1 = x.astype(str)\n",
    "print(a1_copy1)\n",
    "a1_copy1.dtype\n",
    "\n"
   ]
  },
  {
   "cell_type": "code",
   "execution_count": 70,
   "id": "0ea51b36-d46e-4031-bf70-c413f8b5eb7b",
   "metadata": {},
   "outputs": [
    {
     "data": {
      "text/plain": [
       "dtype('int32')"
      ]
     },
     "execution_count": 70,
     "metadata": {},
     "output_type": "execute_result"
    }
   ],
   "source": [
    "z.dtype"
   ]
  },
  {
   "cell_type": "code",
   "execution_count": 76,
   "id": "da6cac1d-320c-49e2-804d-3040a0bcb8e1",
   "metadata": {},
   "outputs": [
    {
     "data": {
      "text/plain": [
       "array([[ 3, 67],\n",
       "       [ 4,  6],\n",
       "       [57,  9]])"
      ]
     },
     "execution_count": 76,
     "metadata": {},
     "output_type": "execute_result"
    }
   ],
   "source": [
    "x = np.array([[3,67],[4,6],[57,9]])\n",
    "x"
   ]
  },
  {
   "cell_type": "code",
   "execution_count": 80,
   "id": "2752939c-a1d3-48f2-89e3-dda1205562b2",
   "metadata": {},
   "outputs": [
    {
     "name": "stdout",
     "output_type": "stream",
     "text": [
      "[70 10 66]\n"
     ]
    }
   ],
   "source": [
    "print(x.sum(axis = 1))"
   ]
  },
  {
   "cell_type": "code",
   "execution_count": 82,
   "id": "9e72b009-639c-476c-80d0-527028f939d1",
   "metadata": {},
   "outputs": [
    {
     "name": "stdout",
     "output_type": "stream",
     "text": [
      "[[ 3 67]\n",
      " [ 4  6]\n",
      " [57  9]]\n",
      "[[ 0 67]\n",
      " [ 4  0]\n",
      " [57  9]]\n"
     ]
    }
   ],
   "source": [
    "x = np.array([[3,67],[4,6],[57,9]])\n",
    "print(x)\n",
    "np.fill_diagonal(x,0)\n",
    "print(x)"
   ]
  },
  {
   "cell_type": "code",
   "execution_count": 90,
   "id": "fe9bfd33-9035-4c0f-8bee-2f666a33aec8",
   "metadata": {},
   "outputs": [
    {
     "name": "stdout",
     "output_type": "stream",
     "text": [
      "[[ 3  4 57]\n",
      " [67  6  9]]\n",
      "[[ 3  4 57]\n",
      " [67  6  9]]\n"
     ]
    }
   ],
   "source": [
    "x = np.array([[3,67],[4,6],[57,9]])\n",
    "y = np.array([[3,67],[4,6],[57,9]])\n",
    "\n",
    "print(x.T)\n",
    "print(y.T)\n"
   ]
  },
  {
   "cell_type": "code",
   "execution_count": 94,
   "id": "231a65ba-97ad-4480-b391-4644330c421d",
   "metadata": {},
   "outputs": [
    {
     "data": {
      "text/plain": [
       "array([[ 3, 67],\n",
       "       [ 4,  6],\n",
       "       [ 4,  6],\n",
       "       [57,  9]])"
      ]
     },
     "execution_count": 94,
     "metadata": {},
     "output_type": "execute_result"
    }
   ],
   "source": [
    "c = np.array([[3,67],[4,6],[4,6],[57,9]])\n",
    "c"
   ]
  },
  {
   "cell_type": "code",
   "execution_count": 96,
   "id": "a7827c4d-6e7a-45e1-8b44-d1010efc7745",
   "metadata": {},
   "outputs": [
    {
     "data": {
      "text/plain": [
       "6"
      ]
     },
     "execution_count": 96,
     "metadata": {},
     "output_type": "execute_result"
    }
   ],
   "source": [
    "c[1][1]"
   ]
  },
  {
   "cell_type": "code",
   "execution_count": null,
   "id": "6a6b84ec-6d64-4223-8aae-74433448e410",
   "metadata": {},
   "outputs": [],
   "source": []
  }
 ],
 "metadata": {
  "kernelspec": {
   "display_name": "Python [conda env:base] *",
   "language": "python",
   "name": "conda-base-py"
  },
  "language_info": {
   "codemirror_mode": {
    "name": "ipython",
    "version": 3
   },
   "file_extension": ".py",
   "mimetype": "text/x-python",
   "name": "python",
   "nbconvert_exporter": "python",
   "pygments_lexer": "ipython3",
   "version": "3.12.7"
  }
 },
 "nbformat": 4,
 "nbformat_minor": 5
}
